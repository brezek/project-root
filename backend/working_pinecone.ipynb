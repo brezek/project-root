{
 "cells": [
  {
   "cell_type": "code",
   "execution_count": 8,
   "metadata": {},
   "outputs": [
    {
     "name": "stdout",
     "output_type": "stream",
     "text": [
      "Creating new index: research-embeddings1...\n",
      "Index 'research-embeddings1' created successfully.\n",
      "Available Indexes: ['research-embeddings']\n"
     ]
    }
   ],
   "source": [
    "import os\n",
    "from dotenv import load_dotenv\n",
    "from pinecone import Pinecone, ServerlessSpec\n",
    "\n",
    "# Load environment variables from .env file\n",
    "load_dotenv()\n",
    "\n",
    "# Retrieve API key securely\n",
    "PINECONE_API_KEY = os.getenv(\"PINECONE_API_KEY\")\n",
    "\n",
    "# Initialize Pinecone using the new client\n",
    "pc = Pinecone(api_key=PINECONE_API_KEY)\n",
    "\n",
    "# Define index name\n",
    "index_name = \"research-embeddings1\"\n",
    "\n",
    "# Get existing indexes\n",
    "existing_indexes = [idx.name for idx in pc.list_indexes()]\n",
    "\n",
    "# Only create the index if it does not exist\n",
    "if index_name not in existing_indexes:\n",
    "    print(f\"Creating new index: {index_name}...\")\n",
    "    pc.create_index(\n",
    "        name=index_name,\n",
    "        dimension=1536,  # OpenAI embedding dimensions\n",
    "        metric=\"cosine\",\n",
    "        spec=ServerlessSpec(\n",
    "            cloud=\"aws\",\n",
    "            region=\"us-east-1\"\n",
    "        )\n",
    "    )\n",
    "    print(f\"Index '{index_name}' created successfully.\")\n",
    "else:\n",
    "    print(f\"Index '{index_name}' already exists. Skipping creation.\")\n",
    "\n",
    "# Connect to the existing index\n",
    "index = pc.Index(index_name)\n",
    "\n",
    "# List available indexes\n",
    "print(\"Available Indexes:\", existing_indexes)\n"
   ]
  },
  {
   "cell_type": "code",
   "execution_count": 10,
   "metadata": {},
   "outputs": [
    {
     "name": "stdout",
     "output_type": "stream",
     "text": [
      "Embeddings stored successfully!\n"
     ]
    }
   ],
   "source": [
    "import openai\n",
    "import os\n",
    "from dotenv import load_dotenv\n",
    "\n",
    "# Load environment variables\n",
    "load_dotenv()\n",
    "\n",
    "# Retrieve API key securely\n",
    "OPENAI_API_KEY = os.getenv(\"OPENAI_API_KEY\")\n",
    "\n",
    "# Initialize OpenAI client\n",
    "client = openai.OpenAI(api_key=OPENAI_API_KEY)\n",
    "\n",
    "# Define sample research summaries\n",
    "research_entries = [\n",
    "    {\"id\": \"entry_1\", \"summary\": \"The impact of AI on real estate market trends.\"},\n",
    "    {\"id\": \"entry_2\", \"summary\": \"Neural networks used in financial modeling for real estate investments.\"},\n",
    "]\n",
    "\n",
    "# Generate and store embeddings\n",
    "for entry in research_entries:\n",
    "    # Generate embedding using OpenAI\n",
    "    embedding = client.embeddings.create(\n",
    "        input=entry[\"summary\"],\n",
    "        model=\"text-embedding-ada-002\"\n",
    "    ).data[0].embedding\n",
    "\n",
    "    # Store in Pinecone\n",
    "    index.upsert([(entry[\"id\"], embedding)])\n",
    "\n",
    "print(\"Embeddings stored successfully!\")\n"
   ]
  },
  {
   "cell_type": "code",
   "execution_count": 11,
   "metadata": {},
   "outputs": [
    {
     "name": "stdout",
     "output_type": "stream",
     "text": [
      "Similar Research ID: entry_1, Score: 0.954398274\n",
      "Similar Research ID: entry_2, Score: 0.843019366\n"
     ]
    }
   ],
   "source": [
    "query_text = \"How AI is transforming the real estate industry\"\n",
    "\n",
    "# Generate embedding for query\n",
    "query_embedding = client.embeddings.create(\n",
    "    input=query_text,\n",
    "    model=\"text-embedding-ada-002\"\n",
    ").data[0].embedding\n",
    "\n",
    "# Search Pinecone for similar research\n",
    "search_results = index.query(\n",
    "    vector=query_embedding, \n",
    "    top_k=5,  # Retrieve the top 5 most similar results\n",
    "    include_metadata=True\n",
    ")\n",
    "\n",
    "# Display results\n",
    "for match in search_results[\"matches\"]:\n",
    "    print(f\"Similar Research ID: {match['id']}, Score: {match['score']}\")\n"
   ]
  },
  {
   "cell_type": "code",
   "execution_count": 12,
   "metadata": {},
   "outputs": [
    {
     "name": "stdout",
     "output_type": "stream",
     "text": [
      "Suggest merging with research entry: entry_1\n",
      "Suggest merging with research entry: entry_2\n"
     ]
    }
   ],
   "source": [
    "for match in search_results[\"matches\"]:\n",
    "    similarity_score = match[\"score\"]\n",
    "    research_id = match[\"id\"]\n",
    "\n",
    "    if similarity_score > 0.80:\n",
    "        print(f\"Suggest merging with research entry: {research_id}\")\n",
    "    elif 0.50 <= similarity_score <= 0.80:\n",
    "        print(f\"Suggest linking research with: {research_id}\")\n",
    "    else:\n",
    "        print(f\"Entry {research_id} is not related.\")\n"
   ]
  },
  {
   "cell_type": "code",
   "execution_count": 13,
   "metadata": {},
   "outputs": [
    {
     "name": "stdout",
     "output_type": "stream",
     "text": [
      "Categorized As: This research can be classified under the following categories:\n",
      "\n",
      "Industries:\n",
      "1. Finance - As it involves financial modeling.\n",
      "2. Real Estate - It specifically focuses on real estate investments.\n",
      "3. Technology/Artificial Intelligence - It utilizes neural networks, a subset of AI technologies.\n",
      "\n",
      "Education Types:\n",
      "1. Business/Finance Education - Relevant for students or professionals studying finance or real estate investment.\n",
      "2. Computer Science/AI Education - Applicable for those studying artificial intelligence, machine learning, or data science, especially in the context of its application to financial models.\n"
     ]
    }
   ],
   "source": [
    "def categorize_research(text):\n",
    "    response = client.chat.completions.create(\n",
    "        model=\"gpt-4o\",\n",
    "        messages=[\n",
    "            {\"role\": \"system\", \"content\": \"You are a research assistant that categorizes research into relevant industries and education types.\"},\n",
    "            {\"role\": \"user\", \"content\": f\"Classify the following research: {text}\"}\n",
    "        ]\n",
    "    )\n",
    "    return response.choices[0].message.content\n",
    "\n",
    "# Test with a sample research summary\n",
    "sample_text = \"Neural networks used in financial modeling for real estate investments.\"\n",
    "categories = categorize_research(sample_text)\n",
    "print(\"Categorized As:\", categories)\n"
   ]
  },
  {
   "cell_type": "code",
   "execution_count": 4,
   "metadata": {},
   "outputs": [
    {
     "name": "stdout",
     "output_type": "stream",
     "text": [
      "Your API Secret Key: 3a403fc7933dc77a59df4f25fdd84707fe648072a099d388e157edafa6157bf2\n"
     ]
    }
   ],
   "source": [
    "import secrets\n",
    "\n",
    "api_key = secrets.token_hex(32)  # Generates a 64-character hex string\n",
    "print(f\"Your API Secret Key: {api_key}\")\n"
   ]
  },
  {
   "cell_type": "code",
   "execution_count": 16,
   "metadata": {},
   "outputs": [
    {
     "name": "stdout",
     "output_type": "stream",
     "text": [
      "{'matches': [{'id': 'research123',\n",
      "              'metadata': {'activity': 0.0,\n",
      "                           'pinned': False,\n",
      "                           'timestamp': '2025-03-01T19:13:32.016564'},\n",
      "              'score': 0.0,\n",
      "              'values': []}],\n",
      " 'namespace': '',\n",
      " 'usage': {'read_units': 6}}\n"
     ]
    }
   ],
   "source": [
    "import os\n",
    "import pinecone\n",
    "from dotenv import load_dotenv\n",
    "\n",
    "# Load environment variables\n",
    "load_dotenv()\n",
    "PINECONE_API_KEY = os.getenv(\"PINECONE_API_KEY\")\n",
    "\n",
    "# Initialize Pinecone\n",
    "pc = pinecone.Pinecone(api_key=PINECONE_API_KEY)\n",
    "index = pc.Index(\"research-embeddings\")\n",
    "\n",
    "# Query Pinecone\n",
    "search_results = index.query(vector=[0]*1536, top_k=100, include_metadata=True)\n",
    "\n",
    "# Print the results\n",
    "print(search_results)\n"
   ]
  },
  {
   "cell_type": "code",
   "execution_count": null,
   "metadata": {},
   "outputs": [],
   "source": []
  }
 ],
 "metadata": {
  "kernelspec": {
   "display_name": "research_ai_env",
   "language": "python",
   "name": "python3"
  },
  "language_info": {
   "codemirror_mode": {
    "name": "ipython",
    "version": 3
   },
   "file_extension": ".py",
   "mimetype": "text/x-python",
   "name": "python",
   "nbconvert_exporter": "python",
   "pygments_lexer": "ipython3",
   "version": "3.12.4"
  }
 },
 "nbformat": 4,
 "nbformat_minor": 2
}
